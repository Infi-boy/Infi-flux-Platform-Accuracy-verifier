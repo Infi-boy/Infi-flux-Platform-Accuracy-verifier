{
  "nbformat": 4,
  "nbformat_minor": 0,
  "metadata": {
    "colab": {
      "provenance": []
    },
    "kernelspec": {
      "name": "python3",
      "display_name": "Python 3"
    },
    "language_info": {
      "name": "python"
    }
  },
  "cells": [
    {
      "cell_type": "markdown",
      "source": [
        "# Testing and verifying accuracy of Infiflux\n"
      ],
      "metadata": {
        "id": "_xC5TkgN15Lg"
      }
    },
    {
      "cell_type": "markdown",
      "source": [],
      "metadata": {
        "id": "PRSO9grd3LcE"
      }
    },
    {
      "cell_type": "code",
      "source": [
        "import pandas as pd\n",
        "import yfinance as yf\n",
        "import pytz\n",
        "import numpy as np\n",
        "from IPython.display import clear_output\n",
        "import time\n",
        "from datetime import datetime, timedelta"
      ],
      "metadata": {
        "id": "pzr4lJ3o19Fv"
      },
      "execution_count": null,
      "outputs": []
    },
    {
      "cell_type": "code",
      "source": [
        "# download it form the platform.\n",
        "# date that needs to be checked\n",
        "chck = '2024-05-08'      # Please change the date required to be checked.\n",
        "\n",
        "# time interval to collect data that includes adjacent dates.\n",
        "start = str(datetime.strptime(chck, '%Y-%m-%d')- timedelta(days = 4)).split(' ')[0]\n",
        "end = str(datetime.strptime(chck, '%Y-%m-%d') + timedelta(days = 2)).split(' ')[0]\n",
        "\n",
        "# file available in github, one can check the accuracy for respective dates,\n",
        "# change the value of the chck variable\n",
        "df = pd.read_excel('data.xlsx', index_col=[0])                     # download the file from Infiflux.com using your account\n",
        "df = df[df.Date.str.contains(chck)].copy()\n",
        "yfinance = [ [i.replace('(','').replace(')','').replace('Â\\xa0',''),i] for i in df.Yfinance]\n",
        "\n",
        "# downloading and collecting the data.\n",
        "df_li = {}\n",
        "for i in yfinance:\n",
        "  df_li[i[1]] =  yf.download(i[0],start = start, end = end,interval = '1m')\n",
        "  # time.sleep(0.9)\n",
        "\n",
        "clear_output(wait=False)\n",
        "print('done')"
      ],
      "metadata": {
        "colab": {
          "base_uri": "https://localhost:8080/"
        },
        "id": "bqju1-D433WT",
        "outputId": "f5dc6ac7-8097-45c0-b327-fa6ae978401f"
      },
      "execution_count": null,
      "outputs": [
        {
          "output_type": "stream",
          "name": "stdout",
          "text": [
            "done\n"
          ]
        }
      ]
    },
    {
      "cell_type": "code",
      "source": [
        "# assuming every prediction is incorrecting from the start\n",
        "# and then updating only those which are correct later.\n",
        "df['DayBreak_check'] = 0\n",
        "df['MidDay_check'] = 0\n",
        "\n",
        "df_li_tmp = df_li.copy()\n",
        "for i in df_li.keys():\n",
        "  fd = df_li[i].copy()\n",
        "  fd['date'] = [str(j) for j in fd.index]\n",
        "  dt = pd.DataFrame([ j.split(' ')[0] for j in fd['date']])[0].unique()\n",
        "  fd = pd.concat([\n",
        "    fd[fd.date.str.contains(dt[list(dt).index(chck) ])],\n",
        "    fd[fd.date.str.contains(dt[list(dt).index(chck) + 1])]\n",
        "    ])\n",
        "  # accuracy check\n",
        "  # first quarter of the next day\n",
        "  Q1 = fd[fd.date.str.contains(dt[list(dt).index(chck) + 1])].copy()\n",
        "  Q1 = Q1[:int(len(Q1)/4)]\n",
        "  # second half of the next day\n",
        "  S2 = fd[fd.date.str.contains(dt[list(dt).index(chck) + 1])].copy()\n",
        "  S2 = S2[int(len(S2)/2):]\n",
        "  # previous day close\n",
        "  Q1_prevdayclose = fd[fd.date.str.contains(dt[list(dt).index(chck)])].iloc[-1].Close\n",
        "  # next day first quarter close\n",
        "  Q1_close = Q1.iloc[-1].Close\n",
        "\n",
        "  # each instrument row to check the correctness of the forecast\n",
        "  check = df[df.Yfinance == i]\n",
        "\n",
        "  for index,row in Q1.iterrows():\n",
        "    if check.DayBreak.iloc[0] == 'Bullish':\n",
        "      # Daybreak condition if bullish, previous day close should be less than next predicted day close any where\n",
        "      # in the first quarter of the day\n",
        "      if row.Close > Q1_prevdayclose:\n",
        "        df.loc[df.Yfinance == i, 'DayBreak_check'] = 1\n",
        "        #correct condition.\n",
        "        break\n",
        "    elif check.DayBreak.iloc[0] == 'Bearish':\n",
        "      # Daybreak condition if Bearish, previous day close should be greater than next predicted day close any where\n",
        "      # in the first quarter of the day atleast once\n",
        "      if row.Close < Q1_prevdayclose:\n",
        "        df.loc[df.Yfinance == i, 'DayBreak_check'] = 1\n",
        "        #correct condition.\n",
        "        break\n",
        "  for index,row in S2.iterrows():\n",
        "    # Midday conditions if Bullish, the close of the first quarter should be less than the\n",
        "    # close anywhere in the second half of the day atleast once\n",
        "    if check.MidDay.iloc[0] == 'Bullish':\n",
        "      if row.Close > Q1_close:\n",
        "        df.loc[df.Yfinance == i, 'MidDay_check'] = 1\n",
        "        break\n",
        "    elif check.MidDay.iloc[0] == 'Bearish':\n",
        "      # Midday conditions if Bearish, the close of the first quarter should be greater than the\n",
        "      # close anywhere in the second half of the day atleast once\n",
        "      if row.Close < Q1_close:\n",
        "        df.loc[df.Yfinance == i, 'MidDay_check'] = 1\n",
        "        break\n",
        "  print(dt[list(dt).index(chck) + 1])\n",
        "\n",
        "clear_output(wait=False)\n",
        "print('done')\n",
        "# Note: the foward testing data displayed on record section of\n",
        "# Infiflux is the performance on that particular day\n",
        "# of the prediction made in the past.\n",
        "# for example 2024-05-09 accuracy be xyz, this accuracy is for the prediction made by forecasts\n",
        "# made by immediate previous working day in this case is 2024-05-08\n",
        "# Another example, for monday, in case of Indian stock exchanges is forecast were made on friday."
      ],
      "metadata": {
        "id": "Jnlc1iC8F600",
        "colab": {
          "base_uri": "https://localhost:8080/"
        },
        "outputId": "f3e66a09-b9c4-496f-e421-e9ab90287aa4"
      },
      "execution_count": null,
      "outputs": [
        {
          "output_type": "stream",
          "name": "stdout",
          "text": [
            "done\n"
          ]
        }
      ]
    },
    {
      "cell_type": "code",
      "source": [
        "pd.DataFrame([[\n",
        "    df.DayBreak_check.sum()/(len(df_li_tmp.keys())) * 100,\n",
        "    df.MidDay_check.sum()/(len(df_li_tmp.keys())) * 100,\n",
        "     (df.DayBreak_check.sum()/(len(df_li_tmp.keys())) + df.MidDay_check.sum()/(len(df_li_tmp.keys())))/2 * 100,\n",
        "    len(df_li_tmp.keys())\n",
        "    ]], columns = ['DayBreak_accuracy', 'MidDay_accuracy', 'Average of the two', 'no of forecasts'])\n"
      ],
      "metadata": {
        "colab": {
          "base_uri": "https://localhost:8080/",
          "height": 80
        },
        "id": "T48GD_o8IQHT",
        "outputId": "40c3dbab-1f49-472e-f428-0cc92741d8bb"
      },
      "execution_count": null,
      "outputs": [
        {
          "output_type": "execute_result",
          "data": {
            "text/plain": [
              "   DayBreak_accuracy  MidDay_accuracy  Average of the two  no of forecasts\n",
              "0          85.714286        98.571429           92.142857               70"
            ],
            "text/html": [
              "\n",
              "  <div id=\"df-fce46ba5-3a44-4956-95c6-764b51ae3707\" class=\"colab-df-container\">\n",
              "    <div>\n",
              "<style scoped>\n",
              "    .dataframe tbody tr th:only-of-type {\n",
              "        vertical-align: middle;\n",
              "    }\n",
              "\n",
              "    .dataframe tbody tr th {\n",
              "        vertical-align: top;\n",
              "    }\n",
              "\n",
              "    .dataframe thead th {\n",
              "        text-align: right;\n",
              "    }\n",
              "</style>\n",
              "<table border=\"1\" class=\"dataframe\">\n",
              "  <thead>\n",
              "    <tr style=\"text-align: right;\">\n",
              "      <th></th>\n",
              "      <th>DayBreak_accuracy</th>\n",
              "      <th>MidDay_accuracy</th>\n",
              "      <th>Average of the two</th>\n",
              "      <th>no of forecasts</th>\n",
              "    </tr>\n",
              "  </thead>\n",
              "  <tbody>\n",
              "    <tr>\n",
              "      <th>0</th>\n",
              "      <td>85.714286</td>\n",
              "      <td>98.571429</td>\n",
              "      <td>92.142857</td>\n",
              "      <td>70</td>\n",
              "    </tr>\n",
              "  </tbody>\n",
              "</table>\n",
              "</div>\n",
              "    <div class=\"colab-df-buttons\">\n",
              "\n",
              "  <div class=\"colab-df-container\">\n",
              "    <button class=\"colab-df-convert\" onclick=\"convertToInteractive('df-fce46ba5-3a44-4956-95c6-764b51ae3707')\"\n",
              "            title=\"Convert this dataframe to an interactive table.\"\n",
              "            style=\"display:none;\">\n",
              "\n",
              "  <svg xmlns=\"http://www.w3.org/2000/svg\" height=\"24px\" viewBox=\"0 -960 960 960\">\n",
              "    <path d=\"M120-120v-720h720v720H120Zm60-500h600v-160H180v160Zm220 220h160v-160H400v160Zm0 220h160v-160H400v160ZM180-400h160v-160H180v160Zm440 0h160v-160H620v160ZM180-180h160v-160H180v160Zm440 0h160v-160H620v160Z\"/>\n",
              "  </svg>\n",
              "    </button>\n",
              "\n",
              "  <style>\n",
              "    .colab-df-container {\n",
              "      display:flex;\n",
              "      gap: 12px;\n",
              "    }\n",
              "\n",
              "    .colab-df-convert {\n",
              "      background-color: #E8F0FE;\n",
              "      border: none;\n",
              "      border-radius: 50%;\n",
              "      cursor: pointer;\n",
              "      display: none;\n",
              "      fill: #1967D2;\n",
              "      height: 32px;\n",
              "      padding: 0 0 0 0;\n",
              "      width: 32px;\n",
              "    }\n",
              "\n",
              "    .colab-df-convert:hover {\n",
              "      background-color: #E2EBFA;\n",
              "      box-shadow: 0px 1px 2px rgba(60, 64, 67, 0.3), 0px 1px 3px 1px rgba(60, 64, 67, 0.15);\n",
              "      fill: #174EA6;\n",
              "    }\n",
              "\n",
              "    .colab-df-buttons div {\n",
              "      margin-bottom: 4px;\n",
              "    }\n",
              "\n",
              "    [theme=dark] .colab-df-convert {\n",
              "      background-color: #3B4455;\n",
              "      fill: #D2E3FC;\n",
              "    }\n",
              "\n",
              "    [theme=dark] .colab-df-convert:hover {\n",
              "      background-color: #434B5C;\n",
              "      box-shadow: 0px 1px 3px 1px rgba(0, 0, 0, 0.15);\n",
              "      filter: drop-shadow(0px 1px 2px rgba(0, 0, 0, 0.3));\n",
              "      fill: #FFFFFF;\n",
              "    }\n",
              "  </style>\n",
              "\n",
              "    <script>\n",
              "      const buttonEl =\n",
              "        document.querySelector('#df-fce46ba5-3a44-4956-95c6-764b51ae3707 button.colab-df-convert');\n",
              "      buttonEl.style.display =\n",
              "        google.colab.kernel.accessAllowed ? 'block' : 'none';\n",
              "\n",
              "      async function convertToInteractive(key) {\n",
              "        const element = document.querySelector('#df-fce46ba5-3a44-4956-95c6-764b51ae3707');\n",
              "        const dataTable =\n",
              "          await google.colab.kernel.invokeFunction('convertToInteractive',\n",
              "                                                    [key], {});\n",
              "        if (!dataTable) return;\n",
              "\n",
              "        const docLinkHtml = 'Like what you see? Visit the ' +\n",
              "          '<a target=\"_blank\" href=https://colab.research.google.com/notebooks/data_table.ipynb>data table notebook</a>'\n",
              "          + ' to learn more about interactive tables.';\n",
              "        element.innerHTML = '';\n",
              "        dataTable['output_type'] = 'display_data';\n",
              "        await google.colab.output.renderOutput(dataTable, element);\n",
              "        const docLink = document.createElement('div');\n",
              "        docLink.innerHTML = docLinkHtml;\n",
              "        element.appendChild(docLink);\n",
              "      }\n",
              "    </script>\n",
              "  </div>\n",
              "\n",
              "\n",
              "    </div>\n",
              "  </div>\n"
            ],
            "application/vnd.google.colaboratory.intrinsic+json": {
              "type": "dataframe",
              "summary": "{\n  \"name\": \"    ]], columns = ['DayBreak_accuracy', 'MidDay_accuracy', 'Average of the two', 'no of forecasts'])\",\n  \"rows\": 1,\n  \"fields\": [\n    {\n      \"column\": \"DayBreak_accuracy\",\n      \"properties\": {\n        \"dtype\": \"number\",\n        \"std\": null,\n        \"min\": 85.71428571428571,\n        \"max\": 85.71428571428571,\n        \"num_unique_values\": 1,\n        \"samples\": [\n          85.71428571428571\n        ],\n        \"semantic_type\": \"\",\n        \"description\": \"\"\n      }\n    },\n    {\n      \"column\": \"MidDay_accuracy\",\n      \"properties\": {\n        \"dtype\": \"number\",\n        \"std\": null,\n        \"min\": 98.57142857142858,\n        \"max\": 98.57142857142858,\n        \"num_unique_values\": 1,\n        \"samples\": [\n          98.57142857142858\n        ],\n        \"semantic_type\": \"\",\n        \"description\": \"\"\n      }\n    },\n    {\n      \"column\": \"Average of the two\",\n      \"properties\": {\n        \"dtype\": \"number\",\n        \"std\": null,\n        \"min\": 92.14285714285715,\n        \"max\": 92.14285714285715,\n        \"num_unique_values\": 1,\n        \"samples\": [\n          92.14285714285715\n        ],\n        \"semantic_type\": \"\",\n        \"description\": \"\"\n      }\n    },\n    {\n      \"column\": \"no of forecasts\",\n      \"properties\": {\n        \"dtype\": \"number\",\n        \"std\": null,\n        \"min\": 70,\n        \"max\": 70,\n        \"num_unique_values\": 1,\n        \"samples\": [\n          70\n        ],\n        \"semantic_type\": \"\",\n        \"description\": \"\"\n      }\n    }\n  ]\n}"
            }
          },
          "metadata": {},
          "execution_count": 4
        }
      ]
    }
  ]
}